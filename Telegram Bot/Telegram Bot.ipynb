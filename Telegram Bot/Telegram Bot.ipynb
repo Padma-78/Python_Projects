{
 "cells": [
  {
   "cell_type": "code",
   "execution_count": 2,
   "id": "988c8264",
   "metadata": {
    "scrolled": true
   },
   "outputs": [
    {
     "name": "stdout",
     "output_type": "stream",
     "text": [
      "Defaulting to user installation because normal site-packages is not writeable\n",
      "Collecting python-telegram-bot\n",
      "  Obtaining dependency information for python-telegram-bot from https://files.pythonhosted.org/packages/11/65/6de6f9653761d3efbed6fa97ec3ad85f0dbcc7421cd1e5a0fa35fc674777/python_telegram_bot-21.0.1-py3-none-any.whl.metadata\n",
      "  Downloading python_telegram_bot-21.0.1-py3-none-any.whl.metadata (15 kB)\n",
      "Collecting httpx~=0.27 (from python-telegram-bot)\n",
      "  Obtaining dependency information for httpx~=0.27 from https://files.pythonhosted.org/packages/41/7b/ddacf6dcebb42466abd03f368782142baa82e08fc0c1f8eaa05b4bae87d5/httpx-0.27.0-py3-none-any.whl.metadata\n",
      "  Downloading httpx-0.27.0-py3-none-any.whl.metadata (7.2 kB)\n",
      "Requirement already satisfied: anyio in c:\\programdata\\anaconda3\\lib\\site-packages (from httpx~=0.27->python-telegram-bot) (3.5.0)\n",
      "Requirement already satisfied: certifi in c:\\programdata\\anaconda3\\lib\\site-packages (from httpx~=0.27->python-telegram-bot) (2023.7.22)\n",
      "Collecting httpcore==1.* (from httpx~=0.27->python-telegram-bot)\n",
      "  Obtaining dependency information for httpcore==1.* from https://files.pythonhosted.org/packages/2c/93/13f25f2f78646bab97aee7680821e30bd85b2ff0fc45d5fdf5393b79716d/httpcore-1.0.4-py3-none-any.whl.metadata\n",
      "  Downloading httpcore-1.0.4-py3-none-any.whl.metadata (20 kB)\n",
      "Requirement already satisfied: idna in c:\\programdata\\anaconda3\\lib\\site-packages (from httpx~=0.27->python-telegram-bot) (3.4)\n",
      "Requirement already satisfied: sniffio in c:\\programdata\\anaconda3\\lib\\site-packages (from httpx~=0.27->python-telegram-bot) (1.2.0)\n",
      "Collecting h11<0.15,>=0.13 (from httpcore==1.*->httpx~=0.27->python-telegram-bot)\n",
      "  Obtaining dependency information for h11<0.15,>=0.13 from https://files.pythonhosted.org/packages/95/04/ff642e65ad6b90db43e668d70ffb6736436c7ce41fcc549f4e9472234127/h11-0.14.0-py3-none-any.whl.metadata\n",
      "  Downloading h11-0.14.0-py3-none-any.whl.metadata (8.2 kB)\n",
      "Downloading python_telegram_bot-21.0.1-py3-none-any.whl (604 kB)\n",
      "   ---------------------------------------- 0.0/604.4 kB ? eta -:--:--\n",
      "   -- ------------------------------------- 30.7/604.4 kB 1.3 MB/s eta 0:00:01\n",
      "   -------- ------------------------------- 122.9/604.4 kB 1.4 MB/s eta 0:00:01\n",
      "   --------- ------------------------------ 143.4/604.4 kB 1.4 MB/s eta 0:00:01\n",
      "   --------------------- ------------------ 327.7/604.4 kB 1.8 MB/s eta 0:00:01\n",
      "   --------------------------- ------------ 409.6/604.4 kB 1.8 MB/s eta 0:00:01\n",
      "   ----------------------------------- ---- 532.5/604.4 kB 2.1 MB/s eta 0:00:01\n",
      "   ---------------------------------------- 604.4/604.4 kB 2.0 MB/s eta 0:00:00\n",
      "Downloading httpx-0.27.0-py3-none-any.whl (75 kB)\n",
      "   ---------------------------------------- 0.0/75.6 kB ? eta -:--:--\n",
      "   ---------------------------------------- 75.6/75.6 kB 4.1 MB/s eta 0:00:00\n",
      "Downloading httpcore-1.0.4-py3-none-any.whl (77 kB)\n",
      "   ---------------------------------------- 0.0/77.8 kB ? eta -:--:--\n",
      "   ---------------------------------------- 77.8/77.8 kB 4.5 MB/s eta 0:00:00\n",
      "Downloading h11-0.14.0-py3-none-any.whl (58 kB)\n",
      "   ---------------------------------------- 0.0/58.3 kB ? eta -:--:--\n",
      "   ---------------------------------------- 58.3/58.3 kB 3.2 MB/s eta 0:00:00\n",
      "Installing collected packages: h11, httpcore, httpx, python-telegram-bot\n",
      "Successfully installed h11-0.14.0 httpcore-1.0.4 httpx-0.27.0 python-telegram-bot-21.0.1\n"
     ]
    },
    {
     "name": "stderr",
     "output_type": "stream",
     "text": [
      "  WARNING: The script httpx.exe is installed in 'C:\\Users\\Padma\\AppData\\Roaming\\Python\\Python311\\Scripts' which is not on PATH.\n",
      "  Consider adding this directory to PATH or, if you prefer to suppress this warning, use --no-warn-script-location.\n"
     ]
    }
   ],
   "source": [
    "# installing via pip\n",
    "!pip install python-telegram-bot"
   ]
  },
  {
   "cell_type": "code",
   "execution_count": null,
   "id": "592d4441",
   "metadata": {},
   "outputs": [],
   "source": [
    "# installing via conda\n",
    "!conda install -c conda-forge python-telegram-bot"
   ]
  },
  {
   "cell_type": "code",
   "execution_count": null,
   "id": "37495831",
   "metadata": {},
   "outputs": [],
   "source": [
    "from telegram.ext.updater import Updater \n",
    "from telegram.update import Update \n",
    "from telegram.ext.callbackcontext import CallbackContext \n",
    "from telegram.ext.commandhandler import CommandHandler \n",
    "from telegram.ext.messagehandler import MessageHandler \n",
    "from telegram.ext.filters import Filters \n",
    "\n",
    "updater = Updater(\"your_own_API_Token got from BotFather\", \n",
    "\t\t\t\tuse_context=True) \n",
    "\n",
    "\n",
    "def start(update: Update, context: CallbackContext): \n",
    "\tupdate.message.reply_text( \n",
    "\t\t\"Hello sir, Welcome to the Bot.Please write\\ \n",
    "\t\t/help to see the commands available.\") \n",
    "\n",
    "def help(update: Update, context: CallbackContext): \n",
    "\tupdate.message.reply_text(\"\"\"Available Commands :- \n",
    "\t/youtube - To get the youtube URL \n",
    "\t/linkedin - To get the LinkedIn profile URL \n",
    "\t/gmail - To get gmail URL \n",
    "\t/geeks - To get the GeeksforGeeks URL\"\"\") \n",
    "\n",
    "\n",
    "def gmail_url(update: Update, context: CallbackContext): \n",
    "\tupdate.message.reply_text( \n",
    "\t\t\"Your gmail link here (I am not\\ \n",
    "\t\tgiving mine one for security reasons)\") \n",
    "\n",
    "\n",
    "def youtube_url(update: Update, context: CallbackContext): \n",
    "\tupdate.message.reply_text(\"Youtube Link =>\\ \n",
    "\thttps://www.youtube.com/\") \n",
    "\n",
    "\n",
    "def linkedIn_url(update: Update, context: CallbackContext): \n",
    "\tupdate.message.reply_text( \n",
    "\t\t\"LinkedIn URL => \\ \n",
    "\t\thttps://www.linkedin.com/in/dwaipayan-bandyopadhyay-007a/\") \n",
    "\n",
    "\n",
    "def geeks_url(update: Update, context: CallbackContext): \n",
    "\tupdate.message.reply_text( \n",
    "\t\t\"GeeksforGeeks URL => https://www.geeksforgeeks.org/\") \n",
    "\n",
    "\n",
    "def unknown(update: Update, context: CallbackContext): \n",
    "\tupdate.message.reply_text( \n",
    "\t\t\"Sorry '%s' is not a valid command\" % update.message.text) \n",
    "\n",
    "\n",
    "def unknown_text(update: Update, context: CallbackContext): \n",
    "\tupdate.message.reply_text( \n",
    "\t\t\"Sorry I can't recognize you , you said '%s'\" % update.message.text) \n",
    "\n",
    "\n",
    "updater.dispatcher.add_handler(CommandHandler('start', start)) \n",
    "updater.dispatcher.add_handler(CommandHandler('youtube', youtube_url)) \n",
    "updater.dispatcher.add_handler(CommandHandler('help', help)) \n",
    "updater.dispatcher.add_handler(CommandHandler('linkedin', linkedIn_url)) \n",
    "updater.dispatcher.add_handler(CommandHandler('gmail', gmail_url)) \n",
    "updater.dispatcher.add_handler(CommandHandler('geeks', geeks_url)) \n",
    "updater.dispatcher.add_handler(MessageHandler(Filters.text, unknown)) \n",
    "updater.dispatcher.add_handler(MessageHandler( \n",
    "\tFilters.command, unknown)) # Filters out unknown commands \n",
    "\n",
    "# Filters out unknown messages. \n",
    "updater.dispatcher.add_handler(MessageHandler(Filters.text, unknown_text)) \n",
    "\n",
    "updater.start_polling() \n"
   ]
  }
 ],
 "metadata": {
  "kernelspec": {
   "display_name": "Python 3 (ipykernel)",
   "language": "python",
   "name": "python3"
  },
  "language_info": {
   "codemirror_mode": {
    "name": "ipython",
    "version": 3
   },
   "file_extension": ".py",
   "mimetype": "text/x-python",
   "name": "python",
   "nbconvert_exporter": "python",
   "pygments_lexer": "ipython3",
   "version": "3.11.5"
  }
 },
 "nbformat": 4,
 "nbformat_minor": 5
}
