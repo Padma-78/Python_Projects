{
 "cells": [
  {
   "cell_type": "code",
   "execution_count": null,
   "id": "366ee92d",
   "metadata": {},
   "outputs": [],
   "source": [
    "import random\n",
    "import string\n",
    "\n",
    "def generate_password(length, use_uppercase, use_digits, use_special_chars):\n",
    "    characters = string.ascii_lowercase\n",
    "    if use_uppercase:\n",
    "        characters += string.ascii_uppercase\n",
    "    if use_digits:\n",
    "        characters += string.digits\n",
    "    if use_special_chars:\n",
    "        characters += string.punctuation\n",
    "\n",
    "    if len(characters) == 0:\n",
    "        print(\"Error: No character types selected. Please enable at least one option.\")\n",
    "        return None\n",
    "\n",
    "    password = ''.join(random.choice(characters) for _ in range(length))\n",
    "    return password\n",
    "\n",
    "def main():\n",
    "    print(\"Password Generator\")\n",
    "\n",
    "    while True:\n",
    "        length = int(input(\"Enter the password length: \"))\n",
    "        use_uppercase = input(\"Include uppercase letters? (yes/no): \").lower() == \"yes\"\n",
    "        use_digits = input(\"Include digits? (yes/no): \").lower() == \"yes\"\n",
    "        use_special_chars = input(\"Include special characters? (yes/no): \").lower() == \"yes\"\n",
    "\n",
    "        password = generate_password(length, use_uppercase, use_digits, use_special_chars)\n",
    "\n",
    "        if password:\n",
    "            print(\"Generated Password:\", password)\n",
    "\n",
    "        another = input(\"Generate another password? (yes/no): \").lower()\n",
    "        if another != \"yes\":\n",
    "            break\n",
    "\n",
    "if __name__ == \"__main__\":\n",
    "    main()"
   ]
  }
 ],
 "metadata": {
  "kernelspec": {
   "display_name": "Python 3 (ipykernel)",
   "language": "python",
   "name": "python3"
  },
  "language_info": {
   "codemirror_mode": {
    "name": "ipython",
    "version": 3
   },
   "file_extension": ".py",
   "mimetype": "text/x-python",
   "name": "python",
   "nbconvert_exporter": "python",
   "pygments_lexer": "ipython3",
   "version": "3.11.5"
  }
 },
 "nbformat": 4,
 "nbformat_minor": 5
}
