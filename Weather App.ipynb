{
 "cells": [
  {
   "cell_type": "code",
   "execution_count": null,
   "id": "2975457d",
   "metadata": {},
   "outputs": [],
   "source": [
    "import requests\n",
    "\n",
    "def get_weather(city, api_key):\n",
    "    base_url = \"https://api.openweathermap.org/data/2.5/weather\"\n",
    "    params = {\n",
    "        \"q\": city,\n",
    "        \"appid\": api_key,\n",
    "        \"units\": \"metric\"  # Change to \"imperial\" for Fahrenheit\n",
    "    }\n",
    "\n",
    "    response = requests.get(base_url, params=params)\n",
    "\n",
    "    if response.status_code == 200:\n",
    "        weather_data = response.json()\n",
    "        temperature = weather_data[\"main\"][\"temp\"]\n",
    "        description = weather_data[\"weather\"][0][\"description\"]\n",
    "        humidity = weather_data[\"main\"][\"humidity\"]\n",
    "        wind_speed = weather_data[\"wind\"][\"speed\"]\n",
    "\n",
    "        print(f\"Weather in {city}:\")\n",
    "        print(f\"Temperature: {temperature}°C\")\n",
    "        print(f\"Description: {description}\")\n",
    "        print(f\"Humidity: {humidity}%\")\n",
    "        print(f\"Wind Speed: {wind_speed} m/s\")\n",
    "    else:\n",
    "        print(\"Failed to fetch weather data. Please check your city name and API key.\")\n",
    "\n",
    "def main():\n",
    "    print(\"Mini Weather App\")\n",
    "    city = input(\"Enter a city: \")\n",
    "    api_key = input(\"Enter your OpenWeatherMap API key: \")\n",
    "\n",
    "    get_weather(city, api_key)\n",
    "\n",
    "if __name__ == \"__main__\":\n",
    "    main()"
   ]
  }
 ],
 "metadata": {
  "kernelspec": {
   "display_name": "Python 3 (ipykernel)",
   "language": "python",
   "name": "python3"
  },
  "language_info": {
   "codemirror_mode": {
    "name": "ipython",
    "version": 3
   },
   "file_extension": ".py",
   "mimetype": "text/x-python",
   "name": "python",
   "nbconvert_exporter": "python",
   "pygments_lexer": "ipython3",
   "version": "3.11.5"
  }
 },
 "nbformat": 4,
 "nbformat_minor": 5
}
