{
 "cells": [
  {
   "cell_type": "code",
   "execution_count": 3,
   "id": "7047228d",
   "metadata": {},
   "outputs": [
    {
     "name": "stdout",
     "output_type": "stream",
     "text": [
      "Defaulting to user installation because normal site-packages is not writeable\n",
      "Requirement already satisfied: wavio in c:\\users\\padma\\appdata\\roaming\\python\\python311\\site-packages (0.0.8)\n",
      "Requirement already satisfied: numpy>=1.19.0 in c:\\programdata\\anaconda3\\lib\\site-packages (from wavio) (1.24.3)\n",
      "Note: you may need to restart the kernel to use updated packages.\n"
     ]
    }
   ],
   "source": [
    "pip install wavio"
   ]
  },
  {
   "cell_type": "code",
   "execution_count": 4,
   "id": "96989845",
   "metadata": {},
   "outputs": [
    {
     "name": "stdout",
     "output_type": "stream",
     "text": [
      "Defaulting to user installation because normal site-packages is not writeable\n",
      "Requirement already satisfied: scipy in c:\\programdata\\anaconda3\\lib\\site-packages (1.11.1)\n",
      "Requirement already satisfied: numpy<1.28.0,>=1.21.6 in c:\\programdata\\anaconda3\\lib\\site-packages (from scipy) (1.24.3)\n",
      "Note: you may need to restart the kernel to use updated packages.\n"
     ]
    }
   ],
   "source": [
    "pip install scipy"
   ]
  },
  {
   "cell_type": "code",
   "execution_count": 6,
   "id": "ecb1377a",
   "metadata": {},
   "outputs": [
    {
     "name": "stdout",
     "output_type": "stream",
     "text": [
      "Defaulting to user installation because normal site-packages is not writeable\n",
      "Collecting sounddevice\n",
      "  Obtaining dependency information for sounddevice from https://files.pythonhosted.org/packages/39/ae/5e84220bfca4256e4ca2a62a174636089ab6ff671b5f9ddd7e8238587acd/sounddevice-0.4.6-py3-none-win_amd64.whl.metadata\n",
      "  Downloading sounddevice-0.4.6-py3-none-win_amd64.whl.metadata (1.4 kB)\n",
      "Requirement already satisfied: CFFI>=1.0 in c:\\programdata\\anaconda3\\lib\\site-packages (from sounddevice) (1.15.1)\n",
      "Requirement already satisfied: pycparser in c:\\programdata\\anaconda3\\lib\\site-packages (from CFFI>=1.0->sounddevice) (2.21)\n",
      "Downloading sounddevice-0.4.6-py3-none-win_amd64.whl (199 kB)\n",
      "   ---------------------------------------- 0.0/199.7 kB ? eta -:--:--\n",
      "   -- ------------------------------------- 10.2/199.7 kB ? eta -:--:--\n",
      "   ----- --------------------------------- 30.7/199.7 kB 330.3 kB/s eta 0:00:01\n",
      "   --------------- ----------------------- 81.9/199.7 kB 657.6 kB/s eta 0:00:01\n",
      "   ------------------------------- ------ 163.8/199.7 kB 984.6 kB/s eta 0:00:01\n",
      "   ---------------------------------------- 199.7/199.7 kB 1.0 MB/s eta 0:00:00\n",
      "Installing collected packages: sounddevice\n",
      "Successfully installed sounddevice-0.4.6\n",
      "Note: you may need to restart the kernel to use updated packages.\n"
     ]
    }
   ],
   "source": [
    "pip install sounddevice"
   ]
  },
  {
   "cell_type": "code",
   "execution_count": 7,
   "id": "bb42825e",
   "metadata": {},
   "outputs": [],
   "source": [
    "# import required libraries\n",
    "import sounddevice as sd\n",
    "from scipy.io.wavfile import write\n",
    "import wavio as wv\n",
    "\n",
    "# Sampling frequency\n",
    "freq = 44100\n",
    "\n",
    "# Recording duration\n",
    "duration = 5\n",
    "\n",
    "# Start recorder with the given values \n",
    "# of duration and sample frequency\n",
    "recording = sd.rec(int(duration * freq), \n",
    "\t\t\t\tsamplerate=freq, channels=2)\n",
    "\n",
    "# Record audio for the given number of seconds\n",
    "sd.wait()\n",
    "\n",
    "# This will convert the NumPy array to an audio\n",
    "# file with the given sampling frequency\n",
    "write(\"recording0.wav\", freq, recording)\n",
    "\n",
    "# Convert the NumPy array to audio file\n",
    "wv.write(\"recording1.wav\", recording, freq, sampwidth=2)\n"
   ]
  },
  {
   "cell_type": "code",
   "execution_count": null,
   "id": "37e4a2b2",
   "metadata": {},
   "outputs": [],
   "source": []
  }
 ],
 "metadata": {
  "kernelspec": {
   "display_name": "Python 3 (ipykernel)",
   "language": "python",
   "name": "python3"
  },
  "language_info": {
   "codemirror_mode": {
    "name": "ipython",
    "version": 3
   },
   "file_extension": ".py",
   "mimetype": "text/x-python",
   "name": "python",
   "nbconvert_exporter": "python",
   "pygments_lexer": "ipython3",
   "version": "3.11.5"
  }
 },
 "nbformat": 4,
 "nbformat_minor": 5
}
