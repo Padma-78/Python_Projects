{
 "cells": [
  {
   "cell_type": "code",
   "execution_count": null,
   "id": "830fd91e",
   "metadata": {},
   "outputs": [],
   "source": [
    "Server Side"
   ]
  },
  {
   "cell_type": "code",
   "execution_count": null,
   "id": "3cd74bb2",
   "metadata": {},
   "outputs": [
    {
     "name": "stdout",
     "output_type": "stream",
     "text": [
      "Chat server is listening on port 12345\n"
     ]
    }
   ],
   "source": [
    "import socket\n",
    "import threading\n",
    "\n",
    "# Server configuration\n",
    "HOST = '0.0.0.0'  # Listen on all available network interfaces\n",
    "PORT = 12345\n",
    "\n",
    "# Create a socket for the server\n",
    "server_socket = socket.socket(socket.AF_INET, socket.SOCK_STREAM)\n",
    "server_socket.bind((HOST, PORT))\n",
    "server_socket.listen()\n",
    "\n",
    "clients = []\n",
    "\n",
    "def handle_client(client_socket):\n",
    "    while True:\n",
    "        try:\n",
    "            message = client_socket.recv(1024).decode(\"utf-8\")\n",
    "            if not message:\n",
    "                remove_client(client_socket)\n",
    "            else:\n",
    "                broadcast(message, client_socket)\n",
    "        except Exception as e:\n",
    "            print(f\"An error occurred: {str(e)}\")\n",
    "            remove_client(client_socket)\n",
    "            break\n",
    "\n",
    "def remove_client(client_socket):\n",
    "    if client_socket in clients:\n",
    "        clients.remove(client_socket)\n",
    "\n",
    "def broadcast(message, client_socket):\n",
    "    for client in clients:\n",
    "        if client != client_socket:\n",
    "            try:\n",
    "                client.send(message.encode(\"utf-8\"))\n",
    "            except Exception as e:\n",
    "                remove_client(client)\n",
    "                print(f\"An error occurred: {str(e)}\")\n",
    "\n",
    "def main():\n",
    "    print(\"Chat server is listening on port\", PORT)\n",
    "    while True:\n",
    "        client_socket, addr = server_socket.accept()\n",
    "        clients.append(client_socket)\n",
    "        client_handler = threading.Thread(target=handle_client, args=(client_socket,))\n",
    "        client_handler.start()\n",
    "\n",
    "if __name__ == \"__main__\":\n",
    "    main()"
   ]
  },
  {
   "cell_type": "markdown",
   "id": "b1610d62",
   "metadata": {},
   "source": [
    "# Client Side "
   ]
  },
  {
   "cell_type": "code",
   "execution_count": null,
   "id": "3d851809",
   "metadata": {},
   "outputs": [],
   "source": [
    "import socket\n",
    "import threading\n",
    "\n",
    "# Client configuration\n",
    "HOST = '127.0.0.1'  # Server's IP address\n",
    "PORT = 12345\n",
    "\n",
    "# Create a socket for the client\n",
    "client_socket = socket.socket(socket.AF_INET, socket.SOCK_STREAM)\n",
    "client_socket.connect((HOST, PORT))\n",
    "\n",
    "def receive_messages():\n",
    "    while True:\n",
    "        try:\n",
    "            message = client_socket.recv(1024).decode(\"utf-8\")\n",
    "            print(message)\n",
    "        except Exception as e:\n",
    "            print(f\"An error occurred: {str(e)}\")\n",
    "            client_socket.close()\n",
    "            break\n",
    "\n",
    "def send_messages():\n",
    "    while True:\n",
    "        message = input()\n",
    "        client_socket.send(message.encode(\"utf-8\"))\n",
    "\n",
    "def main():\n",
    "    print(\"Connected to the chat server.\")\n",
    "    receive_thread = threading.Thread(target=receive_messages)\n",
    "    receive_thread.start()\n",
    "\n",
    "    send_thread = threading.Thread(target=send_messages)\n",
    "    send_thread.start()\n",
    "\n",
    "if __name__ == \"__main__\":\n",
    "    main()"
   ]
  }
 ],
 "metadata": {
  "kernelspec": {
   "display_name": "Python 3 (ipykernel)",
   "language": "python",
   "name": "python3"
  },
  "language_info": {
   "codemirror_mode": {
    "name": "ipython",
    "version": 3
   },
   "file_extension": ".py",
   "mimetype": "text/x-python",
   "name": "python",
   "nbconvert_exporter": "python",
   "pygments_lexer": "ipython3",
   "version": "3.11.5"
  }
 },
 "nbformat": 4,
 "nbformat_minor": 5
}
