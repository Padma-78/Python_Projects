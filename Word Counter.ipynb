{
 "cells": [
  {
   "cell_type": "code",
   "execution_count": null,
   "id": "1c864c13",
   "metadata": {},
   "outputs": [],
   "source": [
    "def count_words(text):\n",
    "    # Split the text into words using whitespace as a delimiter\n",
    "    words = text.split()\n",
    "    return len(words)\n",
    "\n",
    "# Get input text from the user\n",
    "text = input(\"Enter some text: \")\n",
    "\n",
    "# Call the count_words function to count the words\n",
    "word_count = count_words(text)\n",
    "\n",
    "# Display the word count\n",
    "print(f\"Word count: {word_count}\")"
   ]
  }
 ],
 "metadata": {
  "kernelspec": {
   "display_name": "Python 3 (ipykernel)",
   "language": "python",
   "name": "python3"
  },
  "language_info": {
   "codemirror_mode": {
    "name": "ipython",
    "version": 3
   },
   "file_extension": ".py",
   "mimetype": "text/x-python",
   "name": "python",
   "nbconvert_exporter": "python",
   "pygments_lexer": "ipython3",
   "version": "3.11.5"
  }
 },
 "nbformat": 4,
 "nbformat_minor": 5
}
