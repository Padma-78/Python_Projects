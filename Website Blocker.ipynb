{
 "cells": [
  {
   "cell_type": "code",
   "execution_count": 1,
   "id": "b19cb61d",
   "metadata": {},
   "outputs": [],
   "source": [
    "from tkinter import *"
   ]
  },
  {
   "cell_type": "code",
   "execution_count": 6,
   "id": "1d70d2f2",
   "metadata": {},
   "outputs": [],
   "source": [
    "root = Tk()\n",
    "root.geometry('500x300')\n",
    "root.resizable(0,0)\n",
    "root.title(\"Website Blocker\")\n",
    "\n",
    "Label(root, text ='WEBSITE BLOCKER' , font ='arial 20 bold').pack()\n",
    "Label(root, text ='TechVidvan' , font ='arial 20 bold').pack(side=BOTTOM)\n",
    "\n",
    "host_path ='C:\\Windows\\System32\\drivers\\etc\\hosts'\n",
    "ip_address = '127.0.0.1'\n",
    "\n",
    "Label(root, text ='Enter Website :' , font ='arial 13 bold').place(x=5 ,y=60)\n",
    "Websites = Text(root,font = 'arial 10',height='2', width = '40', wrap = WORD, padx=5, pady=5)\n",
    "Websites.place(x= 140,y = 60)\n",
    "               \n",
    "def Blocker():\n",
    "    website_lists = Websites.get(1.0,END)\n",
    "    Website = list(website_lists.split(\",\"))\n",
    "\n",
    "    with open (host_path , 'r+') as host_file:\n",
    "        file_content = host_file.read()\n",
    "        for website in Website:\n",
    "            if website in file_content:\n",
    "                Label(root, text = 'Already Blocked' , font = 'arial 12 bold').place(x=200,y=200)\n",
    "                pass\n",
    "            else:\n",
    "                host_file.write(ip_address + \" \" + website + '\\n')\n",
    "                Label(root, text = \"Blocked\", font = 'arial 12 bold').place(x=230,y =200) \n",
    "                block = Button(root, text = 'Block',font = 'arial 12 bold',pady = 5,command = Blocker ,width = 6, bg = 'royal blue1', activebackground = 'sky blue')\n",
    "\n",
    "    block.place(x = 230, y = 150)\n",
    "    root.mainloop()"
   ]
  },
  {
   "cell_type": "code",
   "execution_count": null,
   "id": "37a994a1",
   "metadata": {},
   "outputs": [],
   "source": []
  }
 ],
 "metadata": {
  "kernelspec": {
   "display_name": "Python 3 (ipykernel)",
   "language": "python",
   "name": "python3"
  },
  "language_info": {
   "codemirror_mode": {
    "name": "ipython",
    "version": 3
   },
   "file_extension": ".py",
   "mimetype": "text/x-python",
   "name": "python",
   "nbconvert_exporter": "python",
   "pygments_lexer": "ipython3",
   "version": "3.11.5"
  }
 },
 "nbformat": 4,
 "nbformat_minor": 5
}
