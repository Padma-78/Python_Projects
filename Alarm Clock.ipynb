{
 "cells": [
  {
   "cell_type": "code",
   "execution_count": null,
   "id": "49b9580a",
   "metadata": {},
   "outputs": [],
   "source": [
    "import time\n",
    "import winsound\n",
    "\n",
    "# Function to set an alarm\n",
    "def set_alarm():\n",
    "    alarm_time = input(\"Enter the alarm time (HH:MM): \")\n",
    "    while True:\n",
    "        current_time = time.strftime(\"%H:%M\")\n",
    "        if current_time == alarm_time:\n",
    "            print(\"Wake up!\")\n",
    "            winsound.Beep(1000, 1000)  # Beep for 1 second\n",
    "            break\n",
    "\n",
    "# Function to snooze the alarm\n",
    "def snooze_alarm():\n",
    "    snooze_time = 5  # Snooze for 5 minutes\n",
    "    alarm_time = time.time() + snooze_time * 60\n",
    "    while time.time() < alarm_time:\n",
    "        pass\n",
    "    print(\"Snooze time is over. Wake up!\")\n",
    "    winsound.Beep(1000, 1000)  # Beep for 1 second\n",
    "\n",
    "# Function to stop the alarm\n",
    "def stop_alarm():\n",
    "    print(\"Alarm stopped\")\n",
    "\n",
    "# Main loop for the alarm clock\n",
    "while True:\n",
    "    print(\"Options:\")\n",
    "    print(\"Enter '1' to set an alarm\")\n",
    "    print(\"Enter '2' to snooze the alarm\")\n",
    "    print(\"Enter '3' to stop the alarm\")\n",
    "    print(\"Enter '4' to exit\")\n",
    "\n",
    "    choice = input(\": \")\n",
    "\n",
    "    if choice == '1':\n",
    "        set_alarm()\n",
    "    elif choice == '2':\n",
    "        snooze_alarm()\n",
    "    elif choice == '3':\n",
    "        stop_alarm()\n",
    "    elif choice == '4':\n",
    "        break\n",
    "    else:\n",
    "        print(\"Invalid input. Please enter a valid option.\")"
   ]
  }
 ],
 "metadata": {
  "kernelspec": {
   "display_name": "Python 3 (ipykernel)",
   "language": "python",
   "name": "python3"
  },
  "language_info": {
   "codemirror_mode": {
    "name": "ipython",
    "version": 3
   },
   "file_extension": ".py",
   "mimetype": "text/x-python",
   "name": "python",
   "nbconvert_exporter": "python",
   "pygments_lexer": "ipython3",
   "version": "3.11.5"
  }
 },
 "nbformat": 4,
 "nbformat_minor": 5
}
