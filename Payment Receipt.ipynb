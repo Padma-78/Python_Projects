{
 "cells": [
  {
   "cell_type": "code",
   "execution_count": 1,
   "id": "99347042",
   "metadata": {},
   "outputs": [
    {
     "name": "stdout",
     "output_type": "stream",
     "text": [
      "Defaulting to user installation because normal site-packages is not writeable\n",
      "Collecting reportlab\n",
      "  Obtaining dependency information for reportlab from https://files.pythonhosted.org/packages/d2/70/c44e5fb6099cf28d01255ff1dfc6a4c8f2b981f314707018c802ac179e4e/reportlab-4.1.0-py3-none-any.whl.metadata\n",
      "  Downloading reportlab-4.1.0-py3-none-any.whl.metadata (1.4 kB)\n",
      "Requirement already satisfied: pillow>=9.0.0 in c:\\programdata\\anaconda3\\lib\\site-packages (from reportlab) (9.4.0)\n",
      "Requirement already satisfied: chardet in c:\\programdata\\anaconda3\\lib\\site-packages (from reportlab) (4.0.0)\n",
      "Downloading reportlab-4.1.0-py3-none-any.whl (1.9 MB)\n",
      "   ---------------------------------------- 0.0/1.9 MB ? eta -:--:--\n",
      "   ---------------------------------------- 0.0/1.9 MB ? eta -:--:--\n",
      "    --------------------------------------- 0.0/1.9 MB 262.6 kB/s eta 0:00:08\n",
      "   - -------------------------------------- 0.1/1.9 MB 465.5 kB/s eta 0:00:05\n",
      "   -- ------------------------------------- 0.1/1.9 MB 853.3 kB/s eta 0:00:03\n",
      "   ---- ----------------------------------- 0.2/1.9 MB 1.1 MB/s eta 0:00:02\n",
      "   -------- ------------------------------- 0.4/1.9 MB 1.5 MB/s eta 0:00:02\n",
      "   ---------- ----------------------------- 0.5/1.9 MB 1.6 MB/s eta 0:00:01\n",
      "   ------------ --------------------------- 0.6/1.9 MB 1.6 MB/s eta 0:00:01\n",
      "   -------------- ------------------------- 0.7/1.9 MB 1.8 MB/s eta 0:00:01\n",
      "   ------------------ --------------------- 0.9/1.9 MB 1.9 MB/s eta 0:00:01\n",
      "   --------------------- ------------------ 1.1/1.9 MB 2.0 MB/s eta 0:00:01\n",
      "   ------------------------- -------------- 1.2/1.9 MB 2.2 MB/s eta 0:00:01\n",
      "   ------------------------------ --------- 1.5/1.9 MB 2.4 MB/s eta 0:00:01\n",
      "   -------------------------------- ------- 1.6/1.9 MB 2.5 MB/s eta 0:00:01\n",
      "   ----------------------------------- ---- 1.7/1.9 MB 2.5 MB/s eta 0:00:01\n",
      "   ------------------------------------- -- 1.8/1.9 MB 2.5 MB/s eta 0:00:01\n",
      "   ---------------------------------------  1.9/1.9 MB 2.5 MB/s eta 0:00:01\n",
      "   ---------------------------------------- 1.9/1.9 MB 2.5 MB/s eta 0:00:00\n",
      "Installing collected packages: reportlab\n",
      "Successfully installed reportlab-4.1.0\n",
      "Note: you may need to restart the kernel to use updated packages.\n"
     ]
    }
   ],
   "source": [
    "pip install reportlab"
   ]
  },
  {
   "cell_type": "code",
   "execution_count": 2,
   "id": "64768c92",
   "metadata": {},
   "outputs": [],
   "source": [
    "# imports module \n",
    "from reportlab.platypus import SimpleDocTemplate, Table, Paragraph, TableStyle \n",
    "from reportlab.lib import colors \n",
    "from reportlab.lib.pagesizes import A4 \n",
    "from reportlab.lib.styles import getSampleStyleSheet \n",
    "\n",
    "# data which we are going to display as tables \n",
    "DATA = [ \n",
    "\t[ \"Date\" , \"Name\", \"Subscription\", \"Price (Rs.)\" ], \n",
    "\t[ \n",
    "\t\t\"16/11/2020\", \n",
    "\t\t\"Full Stack Development with React & Node JS - Live\", \n",
    "\t\t\"Lifetime\", \n",
    "\t\t\"10,999.00/-\", \n",
    "\t], \n",
    "\t[ \"16/11/2020\", \"Geeks Classes: Live Session\", \"6 months\", \"9,999.00/-\"], \n",
    "\t[ \"Sub Total\", \"\", \"\", \"20,9998.00/-\"], \n",
    "\t[ \"Discount\", \"\", \"\", \"-3,000.00/-\"], \n",
    "\t[ \"Total\", \"\", \"\", \"17,998.00/-\"], \n",
    "] \n",
    "\n",
    "# creating a Base Document Template of page size A4 \n",
    "pdf = SimpleDocTemplate( \"receipt.pdf\" , pagesize = A4 ) \n",
    "\n",
    "# standard stylesheet defined within reportlab itself \n",
    "styles = getSampleStyleSheet() \n",
    "\n",
    "# fetching the style of Top level heading (Heading1) \n",
    "title_style = styles[ \"Heading1\" ] \n",
    "\n",
    "# 0: left, 1: center, 2: right \n",
    "title_style.alignment = 1\n",
    "\n",
    "# creating the paragraph with \n",
    "# the heading text and passing the styles of it \n",
    "title = Paragraph( \"GeeksforGeeks\" , title_style ) \n",
    "\n",
    "# creates a Table Style object and in it, \n",
    "# defines the styles row wise \n",
    "# the tuples which look like coordinates \n",
    "# are nothing but rows and columns \n",
    "style = TableStyle( \n",
    "\t[ \n",
    "\t\t( \"BOX\" , ( 0, 0 ), ( -1, -1 ), 1 , colors.black ), \n",
    "\t\t( \"GRID\" , ( 0, 0 ), ( 4 , 4 ), 1 , colors.black ), \n",
    "\t\t( \"BACKGROUND\" , ( 0, 0 ), ( 3, 0 ), colors.gray ), \n",
    "\t\t( \"TEXTCOLOR\" , ( 0, 0 ), ( -1, 0 ), colors.whitesmoke ), \n",
    "\t\t( \"ALIGN\" , ( 0, 0 ), ( -1, -1 ), \"CENTER\" ), \n",
    "\t\t( \"BACKGROUND\" , ( 0 , 1 ) , ( -1 , -1 ), colors.beige ), \n",
    "\t] \n",
    ") \n",
    "\n",
    "# creates a table object and passes the style to it \n",
    "table = Table( DATA , style = style ) \n",
    "\n",
    "# final step which builds the \n",
    "# actual pdf putting together all the elements \n",
    "pdf.build([ title , table ]) \n"
   ]
  },
  {
   "cell_type": "code",
   "execution_count": null,
   "id": "3dbda0fb",
   "metadata": {},
   "outputs": [],
   "source": []
  }
 ],
 "metadata": {
  "kernelspec": {
   "display_name": "Python 3 (ipykernel)",
   "language": "python",
   "name": "python3"
  },
  "language_info": {
   "codemirror_mode": {
    "name": "ipython",
    "version": 3
   },
   "file_extension": ".py",
   "mimetype": "text/x-python",
   "name": "python",
   "nbconvert_exporter": "python",
   "pygments_lexer": "ipython3",
   "version": "3.11.5"
  }
 },
 "nbformat": 4,
 "nbformat_minor": 5
}
