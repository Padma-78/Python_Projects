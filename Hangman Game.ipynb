{
 "cells": [
  {
   "cell_type": "code",
   "execution_count": null,
   "id": "060a637b",
   "metadata": {},
   "outputs": [],
   "source": [
    "import random\n",
    "\n",
    "# List of words to choose from\n",
    "words = [\"python\", \"hangman\", \"computer\", \"programming\", \"challenge\"]\n",
    "\n",
    "# Function to choose a random word\n",
    "def choose_word():\n",
    "    return random.choice(words)\n",
    "\n",
    "# Function to display the current state of the word with blanks\n",
    "def display_word(word, guessed_letters):\n",
    "    display = \"\"\n",
    "    for letter in word:\n",
    "        if letter in guessed_letters:\n",
    "            display += letter\n",
    "        else:\n",
    "            display += \"_\"\n",
    "    return display\n",
    "\n",
    "# Function to play Hangman\n",
    "def play_hangman():\n",
    "    word_to_guess = choose_word()\n",
    "    guessed_letters = []\n",
    "    attempts = 6\n",
    "\n",
    "    print(\"Welcome to Hangman!\")\n",
    "\n",
    "    while attempts > 0:\n",
    "        print(\"\\nWord: \" + display_word(word_to_guess, guessed_letters))\n",
    "        print(\"Attempts left:\", attempts)\n",
    "\n",
    "        guess = input(\"Guess a letter: \").lower()\n",
    "\n",
    "        if len(guess) == 1 and guess.isalpha():\n",
    "            if guess in guessed_letters:\n",
    "                print(\"You've already guessed that letter.\")\n",
    "            elif guess in word_to_guess:\n",
    "                print(\"Good guess!\")\n",
    "                guessed_letters.append(guess)\n",
    "                if set(word_to_guess).issubset(set(guessed_letters)):\n",
    "                    print(\"Congratulations! You've guessed the word:\", word_to_guess)\n",
    "                    break\n",
    "            else:\n",
    "                print(\"Wrong guess!\")\n",
    "                guessed_letters.append(guess)\n",
    "                attempts -= 1\n",
    "        else:\n",
    "            print(\"Invalid input. Please enter a single letter.\")\n",
    "\n",
    "    if attempts == 0:\n",
    "        print(\"You ran out of attempts. The word was:\", word_to_guess)\n",
    "\n",
    "# Start the game\n",
    "play_hangman()"
   ]
  }
 ],
 "metadata": {
  "kernelspec": {
   "display_name": "Python 3 (ipykernel)",
   "language": "python",
   "name": "python3"
  },
  "language_info": {
   "codemirror_mode": {
    "name": "ipython",
    "version": 3
   },
   "file_extension": ".py",
   "mimetype": "text/x-python",
   "name": "python",
   "nbconvert_exporter": "python",
   "pygments_lexer": "ipython3",
   "version": "3.11.5"
  }
 },
 "nbformat": 4,
 "nbformat_minor": 5
}
