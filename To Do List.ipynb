{
 "cells": [
  {
   "cell_type": "code",
   "execution_count": null,
   "id": "c9124812",
   "metadata": {},
   "outputs": [],
   "source": [
    "# Define an empty list to store tasks\n",
    "tasks = []\n",
    "\n",
    "def add_task(task):\n",
    "    tasks.append(task)\n",
    "    print(\"Task added:\", task)\n",
    "\n",
    "def delete_task(task):\n",
    "    if task in tasks:\n",
    "        tasks.remove(task)\n",
    "        print(\"Task deleted:\", task)\n",
    "    else:\n",
    "        print(\"Task not found\")\n",
    "\n",
    "def view_tasks():\n",
    "    if not tasks:\n",
    "        print(\"No tasks in the list\")\n",
    "    else:\n",
    "        print(\"Tasks:\")\n",
    "        for index, task in enumerate(tasks, start=1):\n",
    "            print(f\"{index}. {task}\")\n",
    "\n",
    "while True:\n",
    "    print(\"Options:\")\n",
    "    print(\"Enter 'add' to add a task\")\n",
    "    print(\"Enter 'delete' to delete a task\")\n",
    "    print(\"Enter 'view' to view tasks\")\n",
    "    print(\"Enter 'exit' to end the program\")\n",
    "\n",
    "    user_input = input(\": \")\n",
    "\n",
    "    if user_input == \"exit\":\n",
    "        break\n",
    "    elif user_input == \"add\":\n",
    "        task = input(\"Enter a task: \")\n",
    "        add_task(task)\n",
    "    elif user_input == \"delete\":\n",
    "        task = input(\"Enter the task to delete: \")\n",
    "        delete_task(task)\n",
    "    elif user_input == \"view\":\n",
    "        view_tasks()\n",
    "    else:\n",
    "        print(\"Invalid input\")"
   ]
  }
 ],
 "metadata": {
  "kernelspec": {
   "display_name": "Python 3 (ipykernel)",
   "language": "python",
   "name": "python3"
  },
  "language_info": {
   "codemirror_mode": {
    "name": "ipython",
    "version": 3
   },
   "file_extension": ".py",
   "mimetype": "text/x-python",
   "name": "python",
   "nbconvert_exporter": "python",
   "pygments_lexer": "ipython3",
   "version": "3.11.5"
  }
 },
 "nbformat": 4,
 "nbformat_minor": 5
}
