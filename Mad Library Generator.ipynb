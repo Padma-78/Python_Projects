{
 "cells": [
  {
   "cell_type": "code",
   "execution_count": null,
   "id": "a213107b",
   "metadata": {},
   "outputs": [],
   "source": [
    "# Define a Mad Libs story template\n",
    "mad_libs_template = \"Once upon a time, in a {adjective} {place}, there lived a {animal}. It was a {adjective} and {color} {animal}. One day, the {animal} {verb} to the {place} and met a {adjective} {person}. They became fast friends and went on an adventure to {verb} the {noun}.\"\n",
    "\n",
    "# Create a dictionary to store user inputs\n",
    "user_inputs = {}\n",
    "\n",
    "# Function to get user inputs\n",
    "def get_user_input(prompt):\n",
    "    value = input(prompt + \": \")\n",
    "    return value\n",
    "\n",
    "# Replace placeholders in the story template with user inputs\n",
    "def generate_mad_libs_story(template, inputs):\n",
    "    story = template.format(**inputs)\n",
    "    return story\n",
    "\n",
    "# Get user inputs for the Mad Libs\n",
    "for placeholder in [\"adjective\", \"place\", \"animal\", \"color\", \"verb\", \"person\", \"noun\"]:\n",
    "    user_inputs[placeholder] = get_user_input(f\"Enter a {placeholder}\")\n",
    "\n",
    "# Generate the Mad Libs story\n",
    "mad_libs_story = generate_mad_libs_story(mad_libs_template, user_inputs)\n",
    "\n",
    "# Display the generated story\n",
    "print(\"\\nHere's your Mad Libs story:\")\n",
    "print(mad_libs_story)"
   ]
  }
 ],
 "metadata": {
  "kernelspec": {
   "display_name": "Python 3 (ipykernel)",
   "language": "python",
   "name": "python3"
  },
  "language_info": {
   "codemirror_mode": {
    "name": "ipython",
    "version": 3
   },
   "file_extension": ".py",
   "mimetype": "text/x-python",
   "name": "python",
   "nbconvert_exporter": "python",
   "pygments_lexer": "ipython3",
   "version": "3.11.5"
  }
 },
 "nbformat": 4,
 "nbformat_minor": 5
}
