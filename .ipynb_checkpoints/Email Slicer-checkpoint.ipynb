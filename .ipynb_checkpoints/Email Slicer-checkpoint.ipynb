{
 "cells": [
  {
   "cell_type": "code",
   "execution_count": null,
   "id": "5b396d92",
   "metadata": {},
   "outputs": [],
   "source": [
    "email = input(\"Enter Your Email: \").strip()\n",
    "\n",
    "username = email[:email.index('@')]\n",
    "domain = email[email.index('@') + 1:]\n",
    "\n",
    "print(f\"Your username is {username} & domain is {domain}\")"
   ]
  }
 ],
 "metadata": {
  "kernelspec": {
   "display_name": "Python 3 (ipykernel)",
   "language": "python",
   "name": "python3"
  },
  "language_info": {
   "codemirror_mode": {
    "name": "ipython",
    "version": 3
   },
   "file_extension": ".py",
   "mimetype": "text/x-python",
   "name": "python",
   "nbconvert_exporter": "python",
   "pygments_lexer": "ipython3",
   "version": "3.11.5"
  }
 },
 "nbformat": 4,
 "nbformat_minor": 5
}
