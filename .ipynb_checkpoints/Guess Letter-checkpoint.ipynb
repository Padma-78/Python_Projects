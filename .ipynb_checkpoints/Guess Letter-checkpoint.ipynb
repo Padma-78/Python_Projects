{
 "cells": [
  {
   "cell_type": "code",
   "execution_count": null,
   "id": "f7ec9362",
   "metadata": {},
   "outputs": [],
   "source": [
    "import random\n",
    "\n",
    "def get_word():\n",
    "    \"\"\"\n",
    "    This function returns a random word from a list of words\n",
    "    \"\"\"\n",
    "    word_list = [\"apple\", \"banana\", \"cherry\", \"date\", \"elderberry\", \"fig\", \"grape\"]\n",
    "    return random.choice(word_list)\n",
    "\n",
    "def play_game():\n",
    "    word = get_word()\n",
    "    word_letters = set(word)\n",
    "    alphabet = set('abcdefghijklmnopqrstuvwxyz')\n",
    "    used_letters = set()\n",
    "    lives = 6\n",
    "\n",
    "    # Loop until either the word is guessed or the lives run out\n",
    "    while len(word_letters) > 0 and lives > 0:\n",
    "        # Display the current state of the word\n",
    "        word_list = [letter if letter in used_letters else '_' for letter in word]\n",
    "        print(\"Current word: \", ' '.join(word_list))\n",
    "\n",
    "        # Get a user's guess\n",
    "        user_letter = input(\"Guess a letter: \").lower()\n",
    "\n",
    "        if user_letter in alphabet - used_letters:\n",
    "            used_letters.add(user_letter)\n",
    "            if user_letter in word_letters:\n",
    "                word_letters.remove(user_letter)\n",
    "            else:\n",
    "                lives = lives - 1\n",
    "                print(\"Letter is not in word.\")\n",
    "        elif user_letter in used_letters:\n",
    "            print(\"You have already used that letter. Guess again.\")\n",
    "        else:\n",
    "            print(\"Invalid character. Please enter a letter.\")\n",
    "\n",
    "    # The game has ended, display the result\n",
    "    if lives == 0:\n",
    "        print(\"You died, sorry. The word was\", word)\n",
    "    else:\n",
    "        print(\"You guessed the word\", word, \"!!\")\n",
    "\n",
    "if __name__ == '__main__':\n",
    "    play_game()"
   ]
  }
 ],
 "metadata": {
  "kernelspec": {
   "display_name": "Python 3 (ipykernel)",
   "language": "python",
   "name": "python3"
  }
 },
 "nbformat": 4,
 "nbformat_minor": 5
}
