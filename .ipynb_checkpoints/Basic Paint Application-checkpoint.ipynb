{
 "cells": [
  {
   "cell_type": "code",
   "execution_count": null,
   "id": "93dff1f6",
   "metadata": {},
   "outputs": [],
   "source": [
    "import tkinter as tk\n",
    "from tkinter import colorchooser\n",
    "\n",
    "def start_paint(event):\n",
    "    global prev_x, prev_y\n",
    "    prev_x, prev_y = event.x, event.y\n",
    "\n",
    "def paint(event):\n",
    "    x, y = event.x, event.y\n",
    "    canvas.create_line((prev_x, prev_y, x, y), fill=current_color, width=brush_size, capstyle=tk.ROUND, smooth=tk.TRUE)\n",
    "    prev_x, prev_y = x, y\n",
    "\n",
    "def choose_color():\n",
    "    global current_color\n",
    "    color = colorchooser.askcolor()[1]\n",
    "    if color:\n",
    "        current_color = color\n",
    "\n",
    "def change_brush_size(new_size):\n",
    "    global brush_size\n",
    "    brush_size = new_size\n",
    "\n",
    "root = tk.Tk()\n",
    "root.title(\"Basic Paint Application\")\n",
    "\n",
    "current_color = \"black\"\n",
    "brush_size = 2\n",
    "prev_x, prev_y = None, None\n",
    "\n",
    "canvas = tk.Canvas(root, bg=\"white\")\n",
    "canvas.pack(fill=tk.BOTH, expand=True)\n",
    "\n",
    "canvas.bind(\"<Button-1>\", start_paint)\n",
    "canvas.bind(\"<B1-Motion>\", paint)\n",
    "\n",
    "menu = tk.Menu(root)\n",
    "root.config(menu=menu)\n",
    "options_menu = tk.Menu(menu, tearoff=0)\n",
    "menu.add_cascade(label=\"Options\", menu=options_menu)\n",
    "options_menu.add_command(label=\"Choose Color\", command=choose_color)\n",
    "options_menu.add_command(label=\"Brush Size (1)\", command=lambda: change_brush_size(1))\n",
    "options_menu.add_command(label=\"Brush Size (3)\", command=lambda: change_brush_size(3))\n",
    "options_menu.add_command(label=\"Brush Size (5)\", command=lambda: change_brush_size(5))\n",
    "\n",
    "root.mainloop()"
   ]
  }
 ],
 "metadata": {
  "kernelspec": {
   "display_name": "Python 3 (ipykernel)",
   "language": "python",
   "name": "python3"
  },
  "language_info": {
   "codemirror_mode": {
    "name": "ipython",
    "version": 3
   },
   "file_extension": ".py",
   "mimetype": "text/x-python",
   "name": "python",
   "nbconvert_exporter": "python",
   "pygments_lexer": "ipython3",
   "version": "3.11.5"
  }
 },
 "nbformat": 4,
 "nbformat_minor": 5
}
