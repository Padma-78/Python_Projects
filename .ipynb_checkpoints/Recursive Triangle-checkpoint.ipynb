{
 "cells": [
  {
   "cell_type": "code",
   "execution_count": 3,
   "id": "dd83e272",
   "metadata": {},
   "outputs": [
    {
     "ename": "ModuleNotFoundError",
     "evalue": "No module named 'num2words'",
     "output_type": "error",
     "traceback": [
      "\u001b[1;31m---------------------------------------------------------------------------\u001b[0m",
      "\u001b[1;31mModuleNotFoundError\u001b[0m                       Traceback (most recent call last)",
      "Cell \u001b[1;32mIn[3], line 10\u001b[0m\n\u001b[0;32m      1\u001b[0m \u001b[38;5;124;03m\"\"\"\u001b[39;00m\n\u001b[0;32m      2\u001b[0m \u001b[38;5;124;03mNumber Names -\u001b[39;00m\n\u001b[0;32m      3\u001b[0m \u001b[38;5;124;03mShow how to spell out a number in English.You can use a preexisting implementation or roll your own, \u001b[39;00m\n\u001b[1;32m   (...)\u001b[0m\n\u001b[0;32m      8\u001b[0m \u001b[38;5;124;03m            and floating-point numbers).\u001b[39;00m\n\u001b[0;32m      9\u001b[0m \u001b[38;5;124;03m\"\"\"\u001b[39;00m\n\u001b[1;32m---> 10\u001b[0m \u001b[38;5;28;01mimport\u001b[39;00m \u001b[38;5;21;01mnum2words\u001b[39;00m \u001b[38;5;28;01mas\u001b[39;00m \u001b[38;5;21;01mn2w\u001b[39;00m\n\u001b[0;32m     11\u001b[0m \u001b[38;5;28;01mfrom\u001b[39;00m \u001b[38;5;21;01mtkinter\u001b[39;00m \u001b[38;5;28;01mimport\u001b[39;00m \u001b[38;5;241m*\u001b[39m\n\u001b[0;32m     13\u001b[0m \u001b[38;5;28;01mdef\u001b[39;00m \u001b[38;5;21mnum_to_words\u001b[39m():\n",
      "\u001b[1;31mModuleNotFoundError\u001b[0m: No module named 'num2words'"
     ]
    }
   ],
   "source": [
    "def triangle(n):\n",
    "    return recursive_triangle(n, n)\n",
    "\n",
    "def recursive_triangle(x, n):\n",
    "    # First we must verify that both input values are integers.\n",
    "    if type(x) != int or type(n) != int:\n",
    "        return 'error'\n",
    "    # If x is bigger than n, we will still only print the full triangle, so we can set them equal.\n",
    "    if x > n:\n",
    "        x = n\n",
    "    # If either value is zero, the output should be an empty string because there are no lines or triangle to print.\n",
    "    if x == 0 or n == 0:\n",
    "        return ''\n",
    "    # Let's set some variable names to help us out.\n",
    "    star_print = n\n",
    "    line_number = x\n",
    "    # I'll create an empty string that we can concatenate values to.\n",
    "    line_print = ''\n",
    "\n",
    "# The difference value will determine how many shapes are needed to fill the line before the stars are printed.\n",
    "    difference = star_print - line_number\n",
    "    # If difference is not zero, we will print that value of spaces before the stars. The star print will be the\n",
    "    # remainder, also known as line number.\n",
    "    if difference != 0:\n",
    "        line_print += ' '*difference\n",
    "        line_print += '*'*line_number\n",
    "    # If difference is zero, then we can just fill the line with stars.\n",
    "    else:\n",
    "        line_print += '*'*star_print\n",
    "    # If the line number is greater than one, we can return our string and use the recursive call to run the function\n",
    "    # again with the line number as one value less.\n",
    "    if line_number > 1:\n",
    "        return line_print+'\\n'+str(recursive_triangle(line_number-1, star_print))\n",
    "    # If the line number is exactly one, then we don't need to use the recursive call.\n",
    "    elif line_number == 1:\n",
    "        return line_print"
   ]
  },
  {
   "cell_type": "code",
   "execution_count": null,
   "id": "9e0c7236",
   "metadata": {},
   "outputs": [],
   "source": []
  }
 ],
 "metadata": {
  "kernelspec": {
   "display_name": "Python 3 (ipykernel)",
   "language": "python",
   "name": "python3"
  },
  "language_info": {
   "codemirror_mode": {
    "name": "ipython",
    "version": 3
   },
   "file_extension": ".py",
   "mimetype": "text/x-python",
   "name": "python",
   "nbconvert_exporter": "python",
   "pygments_lexer": "ipython3",
   "version": "3.11.5"
  }
 },
 "nbformat": 4,
 "nbformat_minor": 5
}
