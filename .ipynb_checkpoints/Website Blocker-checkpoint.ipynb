{
 "cells": [
  {
   "cell_type": "code",
   "execution_count": 1,
   "id": "d0907b0b",
   "metadata": {},
   "outputs": [],
   "source": [
    "from tkinter import *"
   ]
  },
  {
   "cell_type": "code",
   "execution_count": 5,
   "id": "f09c49ae",
   "metadata": {},
   "outputs": [
    {
     "ename": "NameError",
     "evalue": "name 'block' is not defined",
     "output_type": "error",
     "traceback": [
      "\u001b[1;31m---------------------------------------------------------------------------\u001b[0m",
      "\u001b[1;31mNameError\u001b[0m                                 Traceback (most recent call last)",
      "Cell \u001b[1;32mIn[5], line 31\u001b[0m\n\u001b[0;32m     28\u001b[0m                 Label(root, text \u001b[38;5;241m=\u001b[39m \u001b[38;5;124m\"\u001b[39m\u001b[38;5;124mBlocked\u001b[39m\u001b[38;5;124m\"\u001b[39m, font \u001b[38;5;241m=\u001b[39m \u001b[38;5;124m'\u001b[39m\u001b[38;5;124marial 12 bold\u001b[39m\u001b[38;5;124m'\u001b[39m)\u001b[38;5;241m.\u001b[39mplace(x\u001b[38;5;241m=\u001b[39m\u001b[38;5;241m230\u001b[39m,y \u001b[38;5;241m=\u001b[39m\u001b[38;5;241m200\u001b[39m) \n\u001b[0;32m     29\u001b[0m                 block \u001b[38;5;241m=\u001b[39m Button(root, text \u001b[38;5;241m=\u001b[39m \u001b[38;5;124m'\u001b[39m\u001b[38;5;124mBlock\u001b[39m\u001b[38;5;124m'\u001b[39m,font \u001b[38;5;241m=\u001b[39m \u001b[38;5;124m'\u001b[39m\u001b[38;5;124marial 12 bold\u001b[39m\u001b[38;5;124m'\u001b[39m,pady \u001b[38;5;241m=\u001b[39m \u001b[38;5;241m5\u001b[39m,command \u001b[38;5;241m=\u001b[39m Blocker ,width \u001b[38;5;241m=\u001b[39m \u001b[38;5;241m6\u001b[39m, bg \u001b[38;5;241m=\u001b[39m \u001b[38;5;124m'\u001b[39m\u001b[38;5;124mroyal blue1\u001b[39m\u001b[38;5;124m'\u001b[39m, activebackground \u001b[38;5;241m=\u001b[39m \u001b[38;5;124m'\u001b[39m\u001b[38;5;124msky blue\u001b[39m\u001b[38;5;124m'\u001b[39m)\n\u001b[1;32m---> 31\u001b[0m block\u001b[38;5;241m.\u001b[39mplace(x \u001b[38;5;241m=\u001b[39m \u001b[38;5;241m230\u001b[39m, y \u001b[38;5;241m=\u001b[39m \u001b[38;5;241m150\u001b[39m)\n\u001b[0;32m     32\u001b[0m root\u001b[38;5;241m.\u001b[39mmainloop()\n",
      "\u001b[1;31mNameError\u001b[0m: name 'block' is not defined"
     ]
    }
   ],
   "source": [
    "root = Tk()\n",
    "root.geometry('500x300')\n",
    "root.resizable(0,0)\n",
    "root.title(\"Website Blocker\")\n",
    "\n",
    "Label(root, text ='WEBSITE BLOCKER' , font ='arial 20 bold').pack()\n",
    "Label(root, text ='TechVidvan' , font ='arial 20 bold').pack(side=BOTTOM)\n",
    "\n",
    "host_path ='C:\\Windows\\System32\\drivers\\etc\\hosts'\n",
    "ip_address = '127.0.0.1'\n",
    "\n",
    "Label(root, text ='Enter Website :' , font ='arial 13 bold').place(x=5 ,y=60)\n",
    "Websites = Text(root,font = 'arial 10',height='2', width = '40', wrap = WORD, padx=5, pady=5)\n",
    "Websites.place(x= 140,y = 60)\n",
    "               \n",
    "def Blocker():\n",
    "    website_lists = Websites.get(1.0,END)\n",
    "    Website = list(website_lists.split(\",\"))\n",
    "\n",
    "    with open (host_path , 'r+') as host_file:\n",
    "        file_content = host_file.read()\n",
    "        for website in Website:\n",
    "            if website in file_content:\n",
    "                Label(root, text = 'Already Blocked' , font = 'arial 12 bold').place(x=200,y=200)\n",
    "                pass\n",
    "            else:\n",
    "                host_file.write(ip_address + \" \" + website + '\\n')\n",
    "                Label(root, text = \"Blocked\", font = 'arial 12 bold').place(x=230,y =200) \n",
    "                block = Button(root, text = 'Block',font = 'arial 12 bold',pady = 5,command = Blocker ,width = 6, bg = 'royal blue1', activebackground = 'sky blue')\n",
    "\n",
    "    block.place(x = 230, y = 150)\n",
    "    root.mainloop()"
   ]
  },
  {
   "cell_type": "code",
   "execution_count": null,
   "id": "d13393d1",
   "metadata": {},
   "outputs": [],
   "source": []
  }
 ],
 "metadata": {
  "kernelspec": {
   "display_name": "Python 3 (ipykernel)",
   "language": "python",
   "name": "python3"
  },
  "language_info": {
   "codemirror_mode": {
    "name": "ipython",
    "version": 3
   },
   "file_extension": ".py",
   "mimetype": "text/x-python",
   "name": "python",
   "nbconvert_exporter": "python",
   "pygments_lexer": "ipython3",
   "version": "3.11.5"
  }
 },
 "nbformat": 4,
 "nbformat_minor": 5
}
