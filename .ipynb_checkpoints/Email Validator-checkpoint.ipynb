{
 "cells": [
  {
   "cell_type": "code",
   "execution_count": 2,
   "id": "c6440a20",
   "metadata": {},
   "outputs": [
    {
     "ename": "SyntaxError",
     "evalue": "invalid syntax (4028119506.py, line 10)",
     "output_type": "error",
     "traceback": [
      "\u001b[1;36m  Cell \u001b[1;32mIn[2], line 10\u001b[1;36m\u001b[0m\n\u001b[1;33m    else if i.isalpha():\u001b[0m\n\u001b[1;37m    ^\u001b[0m\n\u001b[1;31mSyntaxError\u001b[0m\u001b[1;31m:\u001b[0m invalid syntax\n"
     ]
    }
   ],
   "source": [
    "email = input(\"Enter your Email :\") #g@g.in\n",
    "k,j,d=0,0,0\n",
    "if len(email)>=6:\n",
    "    if email[0].isalpha():\n",
    "        if (\"@\"in email) and (email.count(\"@\")==1):\n",
    "            if (email[-4]==\".\") ^ (email[-3]==\".\"):\n",
    "                for i in email:\n",
    "                    if i==i.isspace():\n",
    "                        k=1\n",
    "                        else if i.isalpha():\n",
    "                            if i==i.upper():\n",
    "                                j=1\n",
    "                                elif i.isdigit():\n",
    "                                    continue\n",
    "                                    elif i==\"_\" or i==\".\" or i==\"@\":\n",
    "                                        continue\n",
    "                                        else:\n",
    "                                            d=1\n",
    "                                            \n",
    "                        if k==1 or j==1:\n",
    "                            print(\"Wrong Email 5\")\n",
    "                    else:\n",
    "                    print(\"Wrong Email 4\")\n",
    "                else:\n",
    "                print(\"Wrong Email 3\")\n",
    "            else:\n",
    "            print(\"Wrong Email 2\")\n",
    "        else:\n",
    "        print(\"Wrong Email 1\")"
   ]
  },
  {
   "cell_type": "code",
   "execution_count": null,
   "id": "32261a5b",
   "metadata": {},
   "outputs": [],
   "source": []
  }
 ],
 "metadata": {
  "kernelspec": {
   "display_name": "Python 3 (ipykernel)",
   "language": "python",
   "name": "python3"
  },
  "language_info": {
   "codemirror_mode": {
    "name": "ipython",
    "version": 3
   },
   "file_extension": ".py",
   "mimetype": "text/x-python",
   "name": "python",
   "nbconvert_exporter": "python",
   "pygments_lexer": "ipython3",
   "version": "3.11.5"
  }
 },
 "nbformat": 4,
 "nbformat_minor": 5
}
